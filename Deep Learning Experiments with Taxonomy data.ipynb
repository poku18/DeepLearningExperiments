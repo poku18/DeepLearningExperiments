{
 "cells": [
  {
   "cell_type": "code",
   "execution_count": 3,
   "id": "f034266a",
   "metadata": {},
   "outputs": [
    {
     "name": "stdout",
     "output_type": "stream",
     "text": [
      "Loading already processed training data\n"
     ]
    },
    {
     "data": {
      "text/plain": [
       "array(['Add issue', 'Configuration issue', 'Database-related issue',\n",
       "       'Functional issue', 'GUI-related issue', 'info release issue',\n",
       "       'Network issue', 'Performance issue',\n",
       "       'Permission/Deprecation issue', 'Security issue',\n",
       "       'Test Code-related issue'], dtype=object)"
      ]
     },
     "execution_count": 3,
     "metadata": {},
     "output_type": "execute_result"
    }
   ],
   "source": [
    "#All import statements here\n",
    "import sys\n",
    "import os\n",
    "import pickle\n",
    "import pandas as pd\n",
    "import numpy as np\n",
    "\n",
    "from argparse import ArgumentParser\n",
    "from sklearn.ensemble import RandomForestClassifier\n",
    "\n",
    "from sklearn.feature_extraction.text import TfidfVectorizer\n",
    "from sklearn.linear_model import LogisticRegression\n",
    "from sklearn.model_selection import GridSearchCV\n",
    "from sklearn.model_selection import StratifiedShuffleSplit\n",
    "from sklearn.model_selection import train_test_split\n",
    "from sklearn.naive_bayes import MultinomialNB\n",
    "from sklearn.pipeline import Pipeline\n",
    "from sklearn.svm import LinearSVC\n",
    "from sklearn.svm import SVC\n",
    "from sklearn.multiclass import OneVsRestClassifier\n",
    "from sklearn.metrics import classification_report\n",
    "\n",
    "from tensorflow.keras import layers\n",
    "from tensorflow import keras\n",
    "import tensorflow as tf\n",
    "from ast import literal_eval\n",
    "\n",
    "import matplotlib.pyplot as plt\n",
    "\n",
    "import nltk\n",
    "from nltk import sent_tokenize\n",
    "from nltk import pos_tag\n",
    "from nltk import map_tag\n",
    "from nltk import word_tokenize\n",
    "from nltk.corpus import stopwords\n",
    "import warnings\n",
    "warnings.filterwarnings('always')\n",
    "\n",
    "# Load NLTK's English stop-words list\n",
    "stop_words = set(stopwords.words('english'))\n",
    "\n",
    "print(\"Loading already processed training data\")\n",
    "data_df = pd.read_excel(\"/Users/pragya/Desktop/Grad SemB/Not All bugs are the same/dataset+additional_analysis.xlsx\", sheet_name=\"Dataset - Bug Report\")                       #/Users/pragya/Desktop/Not All bugs are the same/dataset.csv\n",
    "data_df.head(5)   \n",
    "data_df['Classification'].unique()"
   ]
  },
  {
   "cell_type": "code",
   "execution_count": 5,
   "id": "2e0bc862",
   "metadata": {},
   "outputs": [
    {
     "name": "stdout",
     "output_type": "stream",
     "text": [
      "[list(['Add issue']) list(['Add issue']) list(['Add issue'])\n",
      " list(['Add issue']) list(['Add issue'])]\n",
      "Number of rows in training set: 1152\n",
      "Number of rows in validation set: 64\n",
      "Number of rows in test set: 64\n"
     ]
    }
   ],
   "source": [
    "data_df[\"Classification\"] = data_df[\"Classification\"].apply(\n",
    "    lambda x: [x]\n",
    ")\n",
    "print(data_df[\"Classification\"].values[:5])\n",
    "\n",
    "#Splitting data using Stratified splitting function\n",
    "test_split = 0.1\n",
    "\n",
    "# Initial train and test split.\n",
    "train_df, test_df = train_test_split(\n",
    "    data_df,\n",
    "    test_size=test_split,\n",
    "    stratify=data_df[\"Classification\"].values,\n",
    ")\n",
    "\n",
    "# Splitting the test set further into validation\n",
    "# and new test sets.\n",
    "val_df = test_df.sample(frac=0.5)\n",
    "test_df.drop(val_df.index, inplace=True)\n",
    "\n",
    "print(f\"Number of rows in training set: {len(train_df)}\")\n",
    "print(f\"Number of rows in validation set: {len(val_df)}\")\n",
    "print(f\"Number of rows in test set: {len(test_df)}\")\n"
   ]
  },
  {
   "cell_type": "code",
   "execution_count": 6,
   "id": "b7312929",
   "metadata": {},
   "outputs": [
    {
     "name": "stderr",
     "output_type": "stream",
     "text": [
      "2023-03-25 10:35:01.637532: I tensorflow/core/platform/cpu_feature_guard.cc:193] This TensorFlow binary is optimized with oneAPI Deep Neural Network Library (oneDNN) to use the following CPU instructions in performance-critical operations:  SSE4.1 SSE4.2\n",
      "To enable them in other operations, rebuild TensorFlow with the appropriate compiler flags.\n"
     ]
    },
    {
     "name": "stdout",
     "output_type": "stream",
     "text": [
      "Vocabulary:\n",
      "\n",
      "['[UNK]', 'Functional issue', 'GUI-related issue', 'Configuration issue', 'Add issue', 'Test Code-related issue', 'Security issue', 'Network issue', 'Performance issue', 'Permission/Deprecation issue', 'Database-related issue', 'info release issue']\n"
     ]
    }
   ],
   "source": [
    "terms = tf.ragged.constant(train_df[\"Classification\"].values)\n",
    "lookup = tf.keras.layers.StringLookup(output_mode=\"multi_hot\")\n",
    "lookup.adapt(terms)\n",
    "vocab = lookup.get_vocabulary()\n",
    "\n",
    "\n",
    "def invert_multi_hot(encoded_labels):\n",
    "    \"\"\"Reverse a single multi-hot encoded label to a tuple of vocab terms.\"\"\"\n",
    "    hot_indices = np.argwhere(encoded_labels == 1.0)[..., 0]\n",
    "    return np.take(vocab, hot_indices)\n",
    "\n",
    "\n",
    "print(\"Vocabulary:\\n\")\n",
    "print(vocab)"
   ]
  },
  {
   "cell_type": "code",
   "execution_count": 7,
   "id": "8b66a053",
   "metadata": {},
   "outputs": [
    {
     "name": "stdout",
     "output_type": "stream",
     "text": [
      "Original label: ['Test Code-related issue']\n",
      "Label-binarized representation: [[0. 0. 0. 0. 0. 1. 0. 0. 0. 0. 0. 0.]]\n"
     ]
    }
   ],
   "source": [
    "sample_label = train_df[\"Classification\"].iloc[0]\n",
    "print(f\"Original label: {sample_label}\")\n",
    "\n",
    "label_binarized = lookup([sample_label])\n",
    "print(f\"Label-binarized representation: {label_binarized}\")"
   ]
  },
  {
   "cell_type": "code",
   "execution_count": 8,
   "id": "94fe523f",
   "metadata": {},
   "outputs": [
    {
     "data": {
      "text/plain": [
       "count    1152.000000\n",
       "mean        8.086806\n",
       "std         3.541405\n",
       "min         1.000000\n",
       "25%         6.000000\n",
       "50%         8.000000\n",
       "75%        10.000000\n",
       "max        26.000000\n",
       "Name: Summary, dtype: float64"
      ]
     },
     "execution_count": 8,
     "metadata": {},
     "output_type": "execute_result"
    }
   ],
   "source": [
    "train_df[\"Summary\"].apply(lambda x: len(x.split(\" \"))).describe()"
   ]
  },
  {
   "cell_type": "code",
   "execution_count": 9,
   "id": "d43ad27a",
   "metadata": {},
   "outputs": [],
   "source": [
    "max_seqlen = 8\n",
    "batch_size = 128\n",
    "padding_token = \"<pad>\"\n",
    "auto = tf.data.AUTOTUNE\n",
    "\n",
    "\n",
    "def make_dataset(dataframe, is_train=True):\n",
    "    labels = tf.ragged.constant(dataframe[\"Classification\"].values)\n",
    "    print(labels.shape)\n",
    "    label_binarized = lookup(labels).numpy()\n",
    "    print(label_binarized.shape)\n",
    "    dataset = tf.data.Dataset.from_tensor_slices(\n",
    "        (dataframe[\"Summary\"].values, label_binarized)\n",
    "    )\n",
    "    dataset = dataset.shuffle(batch_size * 10) if is_train else dataset\n",
    "    return dataset.batch(batch_size)"
   ]
  },
  {
   "cell_type": "code",
   "execution_count": 10,
   "id": "e9e20ad7",
   "metadata": {},
   "outputs": [
    {
     "name": "stdout",
     "output_type": "stream",
     "text": [
      "(1152, None)\n",
      "(1152, 12)\n",
      "(64, None)\n",
      "(64, 12)\n",
      "(64, None)\n",
      "(64, 12)\n"
     ]
    }
   ],
   "source": [
    "train_dataset = make_dataset(train_df, is_train=True)\n",
    "validation_dataset = make_dataset(val_df, is_train=False)\n",
    "test_dataset = make_dataset(test_df, is_train=False)"
   ]
  },
  {
   "cell_type": "code",
   "execution_count": 11,
   "id": "8d71ea83",
   "metadata": {},
   "outputs": [
    {
     "name": "stdout",
     "output_type": "stream",
     "text": [
      "Abstract: b'Release Bugzilla 5.0rc1, 4.4.7, 4.2.12, and 4.0.16'\n",
      "Label(s): ['info release issue']\n",
      " \n",
      "Abstract: b'Adobe Acrobat claims Fop output has bad page contents'\n",
      "Label(s): ['GUI-related issue']\n",
      " \n",
      "Abstract: b'Auto translate feature \"View Original\" shows a blank page'\n",
      "Label(s): ['GUI-related issue']\n",
      " \n",
      "Abstract: b'Menu accesskey (shortcut key) info should be in DTD.'\n",
      "Label(s): ['GUI-related issue']\n",
      " \n",
      "Abstract: b'mod_rewrite; RewriteLock permissions failure'\n",
      "Label(s): ['Permission/Deprecation issue']\n",
      " \n"
     ]
    }
   ],
   "source": [
    "text_batch, label_batch = next(iter(train_dataset))\n",
    "\n",
    "for i, text in enumerate(text_batch[:5]):\n",
    "    label = label_batch[i].numpy()[None, ...]\n",
    "    print(f\"Abstract: {text}\")\n",
    "    print(f\"Label(s): {invert_multi_hot(label[0])}\")\n",
    "    print(\" \")"
   ]
  },
  {
   "cell_type": "code",
   "execution_count": 12,
   "id": "55dfbf1d",
   "metadata": {},
   "outputs": [
    {
     "name": "stdout",
     "output_type": "stream",
     "text": [
      "3350\n"
     ]
    }
   ],
   "source": [
    "vocabulary = set()\n",
    "train_df[\"Summary\"].str.lower().str.split().apply(vocabulary.update)\n",
    "vocabulary_size = len(vocabulary)\n",
    "print(vocabulary_size)"
   ]
  },
  {
   "cell_type": "code",
   "execution_count": 13,
   "id": "d868216c",
   "metadata": {},
   "outputs": [],
   "source": [
    "text_vectorizer = layers.TextVectorization(\n",
    "    max_tokens=vocabulary_size, ngrams=2, output_mode=\"tf_idf\"\n",
    ")\n",
    "\n",
    "# `TextVectorization` layer needs to be adapted as per the vocabulary from our\n",
    "# training set.\n",
    "with tf.device(\"/CPU:0\"):\n",
    "    text_vectorizer.adapt(train_dataset.map(lambda text, label: text))\n",
    "\n",
    "train_dataset = train_dataset.map(\n",
    "    lambda text, label: (text_vectorizer(text), label), num_parallel_calls=auto\n",
    ").prefetch(auto)\n",
    "validation_dataset = validation_dataset.map(\n",
    "    lambda text, label: (text_vectorizer(text), label), num_parallel_calls=auto\n",
    ").prefetch(auto)\n",
    "test_dataset = test_dataset.map(\n",
    "    lambda text, label: (text_vectorizer(text), label), num_parallel_calls=auto\n",
    ").prefetch(auto)"
   ]
  },
  {
   "cell_type": "code",
   "execution_count": 14,
   "id": "57cc1bfd",
   "metadata": {},
   "outputs": [],
   "source": [
    "def make_model():\n",
    "    shallow_mlp_model = keras.Sequential(\n",
    "        [\n",
    "            layers.Dense(512, activation=\"relu\"),\n",
    "            layers.Dense(256, activation=\"relu\"),\n",
    "            layers.Dense(lookup.vocabulary_size(), activation=\"sigmoid\"),\n",
    "        ]  # More on why \"sigmoid\" has been used here in a moment.\n",
    "    )\n",
    "    return shallow_mlp_model"
   ]
  },
  {
   "cell_type": "code",
   "execution_count": 15,
   "id": "5e3d541e",
   "metadata": {},
   "outputs": [
    {
     "name": "stdout",
     "output_type": "stream",
     "text": [
      "Epoch 1/9\n",
      "9/9 [==============================] - 1s 25ms/step - loss: 0.3922 - accuracy: 0.2656 - val_loss: 0.3267 - val_accuracy: 0.3125\n",
      "Epoch 2/9\n",
      "9/9 [==============================] - 0s 15ms/step - loss: 0.2293 - accuracy: 0.5521 - val_loss: 0.2948 - val_accuracy: 0.3281\n",
      "Epoch 3/9\n",
      "9/9 [==============================] - 0s 15ms/step - loss: 0.1666 - accuracy: 0.6823 - val_loss: 0.2434 - val_accuracy: 0.3906\n",
      "Epoch 4/9\n",
      "9/9 [==============================] - 0s 16ms/step - loss: 0.1107 - accuracy: 0.8472 - val_loss: 0.2367 - val_accuracy: 0.4688\n",
      "Epoch 5/9\n",
      "9/9 [==============================] - 0s 15ms/step - loss: 0.0695 - accuracy: 0.9149 - val_loss: 0.2332 - val_accuracy: 0.5000\n",
      "Epoch 6/9\n",
      "9/9 [==============================] - 0s 15ms/step - loss: 0.0415 - accuracy: 0.9601 - val_loss: 0.2596 - val_accuracy: 0.4844\n",
      "Epoch 7/9\n",
      "9/9 [==============================] - 0s 15ms/step - loss: 0.0254 - accuracy: 0.9757 - val_loss: 0.2780 - val_accuracy: 0.4844\n",
      "Epoch 8/9\n",
      "9/9 [==============================] - 0s 15ms/step - loss: 0.0164 - accuracy: 0.9835 - val_loss: 0.3111 - val_accuracy: 0.4844\n",
      "Epoch 9/9\n",
      "9/9 [==============================] - 0s 15ms/step - loss: 0.0118 - accuracy: 0.9835 - val_loss: 0.3229 - val_accuracy: 0.4844\n"
     ]
    },
    {
     "data": {
      "image/png": "[encoded data removed]",
      "text/plain": [
       "<Figure size 432x288 with 1 Axes>"
      ]
     },
     "metadata": {
      "needs_background": "light"
     },
     "output_type": "display_data"
    },
    {
     "data": {
      "image/png": "[encoded data removed]",
      "text/plain": [
       "<Figure size 432x288 with 1 Axes>"
      ]
     },
     "metadata": {
      "needs_background": "light"
     },
     "output_type": "display_data"
    }
   ],
   "source": [
    "epochs = 9\n",
    "\n",
    "shallow_mlp_model = make_model()\n",
    "shallow_mlp_model.compile(\n",
    "    loss=\"binary_crossentropy\", optimizer=\"adam\", metrics=[\"accuracy\"]\n",
    ")\n",
    "#tf.keras.metrics.Precision(),tf.keras.metrics.Recall(),\n",
    "\n",
    "# metrics\"binary_accuracy\"\n",
    "history = shallow_mlp_model.fit(\n",
    "    train_dataset, validation_data=validation_dataset, epochs=epochs\n",
    ")\n",
    "\n",
    "\n",
    "def plot_result(item):\n",
    "    plt.plot(history.history[item], label=item)\n",
    "    plt.plot(history.history[\"val_\" + item], label=\"val_\" + item)\n",
    "    plt.xlabel(\"Epochs\")\n",
    "    plt.ylabel(item)\n",
    "    plt.title(\"Train and Validation {} Over Epochs\".format(item), fontsize=14)\n",
    "    plt.legend()\n",
    "    plt.grid()\n",
    "    plt.show()\n",
    "\n",
    "\n",
    "plot_result(\"loss\")\n",
    "#plot_result(\"precision_15\")\n",
    "#plot_result(\"recall_8\")\n",
    "plot_result(\"accuracy\")"
   ]
  },
  {
   "cell_type": "code",
   "execution_count": 16,
   "id": "08108a48",
   "metadata": {},
   "outputs": [
    {
     "name": "stdout",
     "output_type": "stream",
     "text": [
      "1/1 [==============================] - 0s 83ms/step - loss: 0.2849 - accuracy: 0.5625\n",
      "Categorical accuracy on the test set: 56.25%.\n"
     ]
    }
   ],
   "source": [
    "_, acc = shallow_mlp_model.evaluate(test_dataset)\n",
    "print(f\"Categorical accuracy on the test set: {round(acc * 100, 2)}%.\")"
   ]
  },
  {
   "cell_type": "code",
   "execution_count": null,
   "id": "5bb4bbcf",
   "metadata": {},
   "outputs": [],
   "source": []
  },
  {
   "cell_type": "code",
   "execution_count": 18,
   "id": "0123d0da",
   "metadata": {},
   "outputs": [
    {
     "name": "stdout",
     "output_type": "stream",
     "text": [
      "(64, None)\n",
      "(64, 12)\n",
      "2/2 [==============================] - 0s 5ms/step\n",
      "2/2 [==============================] - 0s 4ms/step\n",
      "Summary: b'Translate svn-ref.tex to French'\n",
      "Classification: ['Add issue']\n",
      "Predicted Classification: (Functional issue, GUI-related issue, Configuration issue)\n",
      " \n",
      "Summary: b'Unable to login on a fresh Bugzilla install using the login form on the home page'\n",
      "Classification: ['Security issue']\n",
      "Predicted Classification: (Add issue, GUI-related issue, Functional issue)\n",
      " \n",
      "Summary: b'Remove #ifndef NECKO from tree'\n",
      "Classification: ['Configuration issue']\n",
      "Predicted Classification: (Configuration issue, Functional issue, Test Code-related issue)\n",
      " \n",
      "Summary: b'NLS33:plugins referenced by org.eclipse.wst.rdb_userdoc.feature is missing'\n",
      "Classification: ['Configuration issue']\n",
      "Predicted Classification: (Configuration issue, Functional issue, GUI-related issue)\n",
      " \n",
      "Summary: b'Java launch debug session aborts after 10 seconds'\n",
      "Classification: ['Functional issue']\n",
      "Predicted Classification: (Add issue, Functional issue, Configuration issue)\n",
      " \n"
     ]
    }
   ],
   "source": [
    "# Create a model for inference.\n",
    "model_for_inference = keras.Sequential([text_vectorizer, shallow_mlp_model])\n",
    "\n",
    "# Create a small dataset just for demoing inference.\n",
    "inference_dataset = make_dataset(test_df.sample(64), is_train=False)\n",
    "text_batch, label_batch = next(iter(inference_dataset))\n",
    "predicted_probabilities = model_for_inference.predict(text_batch)\n",
    "\n",
    "predicted_classes=np.argmax(model_for_inference.predict(text_batch),axis=1) \n",
    "\n",
    "# Perform inference.\n",
    "for i, text in enumerate(text_batch[:5]):\n",
    "    label = label_batch[i].numpy()[None, ...]\n",
    "    print(f\"Summary: {text}\")\n",
    "    print(f\"Classification: {invert_multi_hot(label[0])}\")\n",
    "    predicted_proba = [proba for proba in predicted_probabilities[i]]\n",
    "    top_3_labels = [\n",
    "        x\n",
    "        for _, x in sorted(\n",
    "            zip(predicted_probabilities[i], lookup.get_vocabulary()),\n",
    "            key=lambda pair: pair[0],\n",
    "            reverse=True,\n",
    "        )\n",
    "    ][:3]\n",
    "    print(f\"Predicted Classification: ({', '.join([label for label in top_3_labels])})\")\n",
    "    print(\" \")"
   ]
  }
 ],
 "metadata": {
  "kernelspec": {
   "display_name": "firstEnv",
   "language": "python",
   "name": "firstenv"
  },
  "language_info": {
   "codemirror_mode": {
    "name": "ipython",
    "version": 3
   },
   "file_extension": ".py",
   "mimetype": "text/x-python",
   "name": "python",
   "nbconvert_exporter": "python",
   "pygments_lexer": "ipython3",
   "version": "3.10.4"
  }
 },
 "nbformat": 4,
 "nbformat_minor": 5
}
