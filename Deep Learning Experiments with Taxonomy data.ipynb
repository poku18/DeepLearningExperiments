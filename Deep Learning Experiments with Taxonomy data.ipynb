{
 "cells": [
  {
   "cell_type": "code",
   "execution_count": 217,
   "id": "f034266a",
   "metadata": {},
   "outputs": [
    {
     "name": "stdout",
     "output_type": "stream",
     "text": [
      "Loading already processed training data\n"
     ]
    },
    {
     "data": {
      "text/plain": [
       "array(['Add issue', 'Configuration issue', 'Database-related issue',\n",
       "       'Functional issue', 'GUI-related issue', 'info release issue',\n",
       "       'Network issue', 'Performance issue',\n",
       "       'Permission/Deprecation issue', 'Security issue',\n",
       "       'Test Code-related issue'], dtype=object)"
      ]
     },
     "execution_count": 217,
     "metadata": {},
     "output_type": "execute_result"
    }
   ],
   "source": [
    "#All import statements here\n",
    "import sys\n",
    "import os\n",
    "import pickle\n",
    "import pandas as pd\n",
    "import numpy as np\n",
    "\n",
    "from argparse import ArgumentParser\n",
    "from sklearn.ensemble import RandomForestClassifier\n",
    "\n",
    "from sklearn.feature_extraction.text import TfidfVectorizer\n",
    "from sklearn.linear_model import LogisticRegression\n",
    "from sklearn.model_selection import GridSearchCV\n",
    "from sklearn.model_selection import StratifiedShuffleSplit\n",
    "from sklearn.model_selection import train_test_split\n",
    "from sklearn.naive_bayes import MultinomialNB\n",
    "from sklearn.pipeline import Pipeline\n",
    "from sklearn.svm import LinearSVC\n",
    "from sklearn.svm import SVC\n",
    "from sklearn.multiclass import OneVsRestClassifier\n",
    "from sklearn.metrics import classification_report\n",
    "\n",
    "import nltk\n",
    "from nltk import sent_tokenize\n",
    "from nltk import pos_tag\n",
    "from nltk import map_tag\n",
    "from nltk import word_tokenize\n",
    "from nltk.corpus import stopwords\n",
    "import warnings\n",
    "warnings.filterwarnings('always')\n",
    "\n",
    "# Load NLTK's English stop-words list\n",
    "stop_words = set(stopwords.words('english'))\n",
    "\n",
    "print(\"Loading already processed training data\")\n",
    "data_df = pd.read_excel(\"/Users/pragya/Desktop/Grad SemB/Not All bugs are the same/dataset+additional_analysis.xlsx\", sheet_name=\"Dataset - Bug Report\")                       #/Users/pragya/Desktop/Not All bugs are the same/dataset.csv\n",
    "data_df.head(5)   \n",
    "data_df['Classification'].unique()"
   ]
  },
  {
   "cell_type": "code",
   "execution_count": 218,
   "id": "81f0e246",
   "metadata": {},
   "outputs": [
    {
     "name": "stdout",
     "output_type": "stream",
     "text": [
      "[list(['Add issue']) list(['Add issue']) list(['Add issue'])\n",
      " list(['Add issue']) list(['Add issue'])]\n",
      "Number of rows in training set: 1152\n",
      "Number of rows in validation set: 64\n",
      "Number of rows in test set: 64\n"
     ]
    }
   ],
   "source": [
    "data_df[\"Classification\"] = data_df[\"Classification\"].apply(\n",
    "    lambda x: [x]\n",
    ")\n",
    "print(data_df[\"Classification\"].values[:5])\n",
    "\n",
    "#Splitting data using Stratified splitting function\n",
    "test_split = 0.1\n",
    "\n",
    "# Initial train and test split.\n",
    "train_df, test_df = train_test_split(\n",
    "    data_df,\n",
    "    test_size=test_split,\n",
    "    stratify=data_df[\"Classification\"].values,\n",
    ")\n",
    "\n",
    "# Splitting the test set further into validation\n",
    "# and new test sets.\n",
    "val_df = test_df.sample(frac=0.5)\n",
    "test_df.drop(val_df.index, inplace=True)\n",
    "\n",
    "print(f\"Number of rows in training set: {len(train_df)}\")\n",
    "print(f\"Number of rows in validation set: {len(val_df)}\")\n",
    "print(f\"Number of rows in test set: {len(test_df)}\")\n"
   ]
  },
  {
   "cell_type": "code",
   "execution_count": 137,
   "id": "b4783481",
   "metadata": {},
   "outputs": [
    {
     "name": "stdout",
     "output_type": "stream",
     "text": [
      "                                              titles  \\\n",
      "0  Survey on Semantic Stereo Matching / Semantic ...   \n",
      "1  FUTURE-AI: Guiding Principles and Consensus Re...   \n",
      "2  Enforcing Mutual Consistency of Hard Regions f...   \n",
      "3  Parameter Decoupling Strategy for Semi-supervi...   \n",
      "4  Background-Foreground Segmentation for Interio...   \n",
      "\n",
      "                                           summaries  \\\n",
      "0  Stereo matching is one of the widely used tech...   \n",
      "1  The recent advancements in artificial intellig...   \n",
      "2  In this paper, we proposed a novel mutual cons...   \n",
      "3  Consistency training has proven to be an advan...   \n",
      "4  To ensure safety in automated driving, the cor...   \n",
      "\n",
      "                         terms  \n",
      "0           ['cs.CV', 'cs.LG']  \n",
      "1  ['cs.CV', 'cs.AI', 'cs.LG']  \n",
      "2           ['cs.CV', 'cs.AI']  \n",
      "3                    ['cs.CV']  \n",
      "4           ['cs.CV', 'cs.LG']  \n"
     ]
    },
    {
     "data": {
      "text/plain": [
       "array([list(['cs.CV', 'cs.LG']), list(['cs.CV', 'cs.AI', 'cs.LG']),\n",
       "       list(['cs.CV', 'cs.AI']), list(['cs.CV']),\n",
       "       list(['cs.CV', 'cs.LG'])], dtype=object)"
      ]
     },
     "execution_count": 137,
     "metadata": {},
     "output_type": "execute_result"
    }
   ],
   "source": [
    "from tensorflow.keras import layers\n",
    "from tensorflow import keras\n",
    "import tensorflow as tf\n",
    "from ast import literal_eval\n",
    "\n",
    "import matplotlib.pyplot as plt\n",
    "\n",
    "arxiv_data = pd.read_csv(\n",
    "    \"https://github.com/soumik12345/multi-label-text-classification/releases/download/v0.2/arxiv_data.csv\"\n",
    ")\n",
    "print(arxiv_data.head())\n",
    "\n",
    "# Filtering the rare terms.\n",
    "arxiv_data_filtered = arxiv_data.groupby(\"terms\").filter(lambda x: len(x) > 1)\n",
    "arxiv_data_filtered.shape\n",
    "\n",
    "arxiv_data_filtered[\"terms\"] = arxiv_data_filtered[\"terms\"].apply(\n",
    "    lambda x: literal_eval(x)\n",
    ")\n",
    "arxiv_data_filtered[\"terms\"].values[:5]"
   ]
  },
  {
   "cell_type": "code",
   "execution_count": 138,
   "id": "c784ed9b",
   "metadata": {},
   "outputs": [
    {
     "name": "stdout",
     "output_type": "stream",
     "text": [
      "Number of rows in training set: 44986\n",
      "Number of rows in validation set: 2500\n",
      "Number of rows in test set: 2499\n"
     ]
    }
   ],
   "source": [
    "test_split = 0.1\n",
    "\n",
    "# Initial train and test split.\n",
    "train_df, test_df = train_test_split(\n",
    "    arxiv_data_filtered,\n",
    "    test_size=test_split,\n",
    "    stratify=arxiv_data_filtered[\"terms\"].values,\n",
    ")\n",
    "\n",
    "# Splitting the test set further into validation\n",
    "# and new test sets.\n",
    "val_df = test_df.sample(frac=0.5)\n",
    "test_df.drop(val_df.index, inplace=True)\n",
    "\n",
    "print(f\"Number of rows in training set: {len(train_df)}\")\n",
    "print(f\"Number of rows in validation set: {len(val_df)}\")\n",
    "print(f\"Number of rows in test set: {len(test_df)}\")"
   ]
  },
  {
   "cell_type": "code",
   "execution_count": 139,
   "id": "c0cfcfc7",
   "metadata": {},
   "outputs": [
    {
     "name": "stdout",
     "output_type": "stream",
     "text": [
      "Vocabulary:\n",
      "\n",
      "['[UNK]', 'cs.CV', 'cs.LG', 'stat.ML', 'cs.AI', 'eess.IV', 'cs.RO', 'cs.CL', 'cs.NE', 'cs.CR', 'cs.SI', 'math.OC', 'eess.SP', 'cs.GR', 'cs.MM', 'cs.IR', 'cs.SY', 'cs.MA', 'cs.HC', 'eess.SY', 'stat.AP', 'math.IT', 'cs.IT', 'cs.DC', 'cs.CY', 'q-bio.QM', 'eess.AS', 'stat.ME', 'stat.TH', 'math.ST', 'cs.SD', 'q-bio.NC', 'cs.DS', 'math.NA', 'cs.CG', 'I.2.6', 'physics.chem-ph', 'cs.NA', 'cs.SE', 'cs.NI', 'cs.GT', 'stat.CO', 'q-bio.BM', '68T45', 'cs.DB', 'physics.comp-ph', 'cs.LO', 'math.PR', 'cond-mat.dis-nn', 'cs.CE', 'cs.PL', 'physics.data-an', 'q-fin.ST', 'cond-mat.stat-mech', 'I.2.10', 'cs.AR', 'I.4.6', '68T05', 'math.DS', 'cs.DM', 'quant-ph', 'cs.PF', 'I.2', '68T07', 'q-bio.GN', 'physics.med-ph', 'physics.geo-ph', 'q-fin.TR', 'physics.soc-ph', 'cond-mat.mtrl-sci', 'math.AT', 'q-bio.TO', 'econ.EM', 'cs.CC', 'I.5.4', 'I.4', 'physics.optics', 'physics.ao-ph', 'astro-ph.IM', '68T01', 'q-fin.CP', 'q-bio.MN', '68U10', 'I.4.8', 'hep-ex', 'cs.SC', '68T10', '62H30', 'q-fin.PM', 'math.AP', 'cs.FL', 'I.4.9', 'I.2.7', 'I.4; I.5', 'I.2.10; I.4; I.5', '68T99', '65D19', 'q-fin.EC', 'physics.bio-ph', 'physics.app-ph', 'econ.GN', 'I.5.1', 'I.2.6; I.2.8', 'I.2.1', 'physics.flu-dyn', 'I.2; I.4; I.5', 'I.2.7; I.2.10', 'I.2.4; I.2.6', '68Txx', '68T30', 'nlin.CD', 'math.CO', 'cs.MS', 'I.2; I.4', 'I.2.m', 'I.2.8', '68T45 (Primary) 68T07 (Secondary)', 'math.SP', 'math.FA', 'hep-ph', 'cond-mat.soft', 'astro-ph', 'I.4.0', 'I.2; I.5', 'I.2.6; I.2.10', 'I.2.10; I.4.8', 'I.2.10; I.2.6', '68U01', '68T07, 05C85, 42C40', 'q-fin.GN', 'q-bio.CB', 'math.GR', 'cs.DL', 'K.3.2', 'I.4; I.2', 'I.4.5', 'I.2.6; I.5.1', 'I.2.6; I.2.7; I.2.10', 'I.2.6; I.2.11', 'I.2.0; I.2.6', 'I.2.0', 'G.1.6', '68T50', '68R10, 05C50, 65F15, 65T50, 68T05, 62H30', 'q-fin.RM', 'physics.ins-det', 'math.MP', 'math.MG', 'math-ph', 'cs.ET', 'J.2', 'I.5.0; I.2.0', 'I.5', 'I.4.9; I.4.10', 'I.4.8; I.4.6; I.4.0; I.2.9; I.2.10; J.2.; I.5.5; I.5.4; I.4.9', 'I.4.6; I.5.1', 'I.4.5; I.2.6', 'I.2.6; J.2', 'I.2.6; I.2.7', 'I.2.4', 'G.3', 'C.1.3', 'A.1', '68', '62H35', '42C40, 05C85, 11Y16', 'Primary 60G60, 60H05, 62M15, Secondary 35K15', 'J.6; J.0', 'J.2; D.2.11; E.1', 'I.5.1; I.5.2; I.5.4', 'I.4.9; I.5.4', 'I.4.9; I.4.8; I.3.3', 'I.4.8; I.4.9; I.2.10', 'I.4.6; I.4.8; I.4.9; I.5.4', 'I.4.6; I.2.6', 'I.4.6; I.2.10; I.5.0; I.3.0; E.0', 'I.4.4', 'I.4.0; I.5.4', 'I.2; J.2', 'I.2; I.5; I.2.4; I.2.6; I.5.1', 'I.2; I.2.6; I.2.7', 'I.2.7; I.2.1; J.2; J.3', 'I.2.6; I.5.4', 'I.2.6; I.2.10; I.4.8; I.4.6', 'I.2.6; F.2.2', 'I.2.6, I.5.4', 'I.2.2; I.2.8', 'I.2.1; I.2.6', 'I.2.10; I.4.9', 'I.2.1, I.4.6,', 'I.2.0; I.5.0', 'I.2.0; I.2.4', 'G.2.6; I.2.2', 'E.1; I.4; I.5; I.6', 'Computing methodologies for image processing', 'Artificial intelligence', '93E35', '68T99, 65D15, 65M99, 65N99', '68T50, 68T45', '68T50, 68T05', '68T07, 68T30, 68R99', '68Q32', '6804 (Primary)', '68-06', '65Z05', '65Dxx', '62P99', '62G05, 62H20, 62H12, 62H30', '62, 68', '60D05, 62C99', '37M10, 68T07, 68T05, 68T37, 82C32', '37M05, 37M10, 62M45, 68Q32, 68T05', '05B45, 62H30, 54E05, 68T10', 'stat.OT', 'q-fin.MF', 'q-bio.PE', 'q-bio.OT', 'org', 'nucl-th', 'nlin.PS', 'nlin.CG', 'nlin.AO', 'math.RT', 'math.RA', 'math.LO', 'math.DG', 'math.CT', 'math.CA', 'hep-th', 'K.4.2; J.m', 'K.3.8', 'J.3; I.5.1', 'J.3', 'J.2; I.2.1', 'I.6.5', 'I.5; I.5.4; I.4; I.4.7; I.4.8; I.4.9', 'I.5; I.5.4; I.4; I.4.6; I.4.8; I.4.9', 'I.5.4; I.2.10', 'I.5.2; I.2.6; E.1', 'I.5.2', 'I.5.1; I.6.3; I.5.4; I.2.8', 'I.5.1; I.5.1', 'I.5.1; I.4.6; I.2.6', 'I.5.1; I.3.5', 'I.5.1; I.2.7', 'I.5.1; I.2.1; I.5.3; J.3; G.1.6', 'I.5.0; I.4.0; G.3', 'I.4; J.3', 'I.4; I.5; I.3; I.2', 'I.4; I.5.1', 'I.4; I.2.10', 'I.4.m, I.5.4, I.5.1, I.2.1', 'I.4.9; I.5.4; I.2.10', 'I.4.9; I.5.4; H.5.1; H.5.5', 'I.4.9; I.4.8; I.2.10', 'I.4.8; I.2.6', 'I.4.7; I.4.9; I.4.10; I.5.2; I.5.3; I.5.4; I.2.4; I.2.6; I.2.10;\\n  H.3.1; H.3.3', 'I.4.7; I.4.8; I.5.1', 'I.4.7; I.4.8; I.5.0', 'I.4.7; I.4.6; G.2.2; I.2.10; G.1.2', 'I.4.7', 'I.4.6; J.2', 'I.4.6; I.5.4', 'I.4.6; I.4.8', 'I.4.6; I.4.5', 'I.4.6; I.4.3', 'I.4.6; I.2.6; J.2', 'I.4.6; I.2.6; I.5.4; I.5.1', 'I.4.6; I.2.10; I.5.1', 'I.4.6; G.1.8', 'I.4.6, I.5.4', 'I.4.5; I.2.10', 'I.4.3; I.4.4', 'I.4.3', 'I.4.0; I.4.8; I.4.9; I.2.10', 'I.4.0; I.4.3; I.4.6; I.4.9; I.4.m', 'I.4.0; I.4.1; I.4.7; I.4.8; I.4.9; I.4.10; I.2.10; I.5.1; I.5.2;\\n  I.5.4', 'I.4.0; I.2.7', 'I.4.0; I.2.6', 'I.3.5; I.4.8; I.5.3', 'I.3.5; I.2.10', 'I.3.0; J.4; I.2.6', 'I.2; J.3', 'I.2; I.2.1; I.2.6; I.2.10; I.4.5; I.4.9', 'I.2.9; G.1.6; I.4.5; I.2.10', 'I.2.7; I.2.6', 'I.2.7; H.1.2; H.4.2; J.4', 'I.2.6; I.6.8', 'I.2.6; I.5.5', 'I.2.6; I.5.1; I.5.4; I.4.6', 'I.2.6; I.5.1; F.4.1', 'I.2.6; I.4.6; I.5.5', 'I.2.6; I.4.6; I.5.1', 'I.2.6; I.2; I.5', 'I.2.6; I.2.9', 'I.2.6; I.2.7; H.3.1; H.3.3', 'I.2.6; I.2.10; I.5.0; J.4', 'I.2.6; I.2.10; I.4.9; I.5.1; I.5.4', 'I.2.6; H.1.2; K.4', 'I.2.6; F.m', 'I.2.6, I.2.11', 'I.2.6, I.2.10', 'I.2.2; I.2.6', 'I.2.2', 'I.2.1; J.3; J.6', 'I.2.1; J.3', 'I.2.1; I.4.9', 'I.2.11', 'I.2.10; I.5.1; I.5.4', 'I.2.10; I.5.1; I.4.8', 'I.2.10; I.4.8; I.5.4', 'I.2.10; I.4.8; I.5.1', 'I.2.10; I.4.8; I.5', 'I.2.10; I.4.6', 'I.2.10; I.4.4; I.5.4', 'I.2.10; I.4.3; J.5', 'I.2.10; I.4.10', 'I.2.10; I.3.7; I.4.8', 'I.2.10; I.3.3; I.3.5; G.1.4', 'I.2.10; I.2.9; I.2.6', 'I.2.10; I.2.7', 'I.2.10; I.2.10; I.2.1; I.4.6; I.4.7; I.4.8; I.4.9; I.5.2; I.5.5', 'I.2.0; I.2.7; I.5.0', 'I.2.0; I.2.6; I.2.7', 'I.2.0; I.2.6; I.2.4', 'H.3.1; I.2.6; I.2.7', 'H.3.1; H.3.3; I.2.6; I.2.7', 'G.3; I.2.4; I.2.6', 'G.3; I.2.1; I.2.6; I.5.1; I.5.2; I.5.5; I.6.4; I.6.5; I.6.8; J.3', 'G.2.2', 'G.2.1; G.2.2', 'G.1; I.2; I.4; J.3', 'G.1.6; I.2.6', 'G.1.0; G.1.6', 'F.2.4', 'F.2.2; I.2.7', 'F.2.2', 'E.5; E.4; E.2; H.1.1; F.1.1; F.1.3', 'E.4; I.5.4', 'D.4.6; E.3; C.2', 'D.2.5', 'C.4; I.2.6; I.2.10; I.4.6; I.4.9; J.4', 'C.4', '97R40', '94A08, 68U10, 65K10, 35K55, 49Q10', '90C20, 90C27, 90C35, 90C90', '90B18', '74S30 (primary), 74S05, 74B05, 74L05, 74L10 (secondary)', '74Q15, 05C99', '68U10, 68W99', '68U10, 68T10', '68U10, 62M05, 62H30, 65C20', '68U10, 05C85', '68U10 (Primary) 94A08, 54H30 (Secondary)', '68U05', '68Txx, 81Pxx', '68Txx, 68-XX', '68T45, 68T07', '68T45 (Primary) 68U10 (Secondary)', '68T45 (Primary) 68T10, 68T07 (Secondary)', '68T40, 74Pxx, 46N10, 65D19', '68T40', '68T20', '68T10, 62H30', '68T10 (Primary), 42-08, 57Z25 (Secondary)', '68T10 (Primary) 68T20, 86-08, 86-04, 76T99 (Secondary)', '68T07, 68T10', '68T07, 68T05, 68T27, 68T30', '68T07(Primary)', '68T07 (Primary) 68T10, 68T45 (Secondary)', '68T07 (Primary)', '68T05, 68T45', '68T05, 65L05, 37M10, 62M45, 68Q32', '68T05 (Primary) 62H12, 68T07 (Secondary)', '68T01, 68T50', '68T01, 68T40, 93C85', '68T01, 68T05, 68U10, 62M45, 78M32, 92C55, 94A08', '68T01 (Primary), 68T07 (Secondary)', '68R10 (Primary), 90C27 (Secondary)', '68Q32, 68T01', '65Z05, 65K10, 65R30, 68U10, 68T07, 65F22', '65Kxx, 65Yxx', '65K10, 68T45', '65K10', '65K05, 62F10, 65D19', '65D19 (Primary), 05C50 (Secondary)', '65C05', '62P10, 62F15', '62M10, 91B84', '62M10', '62H99', '62G20, 68T05', '62G05', '62-07, 37H99', '60L10 (Primary) 60L20 (Secondary)', '60G40, 65C60, 68T99', '54E40', '49Q10, 62H35', '49-06 (Primary), 49-11(Secondary)', '37N99, 46E22, 47B32', '35J50, 35Q68', '26A33', '14R10, 15A63, 14L24, 15A69', '14J60 (Primary) 14F05, 14J26 (Secondary)', '10010147.10010257.10010258.10010259.10010263', '05C99, 62M45', '05C60', '05C50, 68T07', '00Bxx']\n"
     ]
    }
   ],
   "source": [
    "terms = tf.ragged.constant(train_df[\"terms\"].values)\n",
    "lookup = tf.keras.layers.StringLookup(output_mode=\"multi_hot\")\n",
    "lookup.adapt(terms)\n",
    "vocab = lookup.get_vocabulary()\n",
    "\n",
    "\n",
    "def invert_multi_hot(encoded_labels):\n",
    "    \"\"\"Reverse a single multi-hot encoded label to a tuple of vocab terms.\"\"\"\n",
    "    hot_indices = np.argwhere(encoded_labels == 1.0)[..., 0]\n",
    "    return np.take(vocab, hot_indices)\n",
    "\n",
    "\n",
    "print(\"Vocabulary:\\n\")\n",
    "print(vocab)"
   ]
  },
  {
   "cell_type": "code",
   "execution_count": 140,
   "id": "2d661e31",
   "metadata": {},
   "outputs": [
    {
     "name": "stdout",
     "output_type": "stream",
     "text": [
      "Original label: ['cs.LG', 'stat.ML']\n",
      "Label-binarized representation: [[0. 0. 1. 1. 0. 0. 0. 0. 0. 0. 0. 0. 0. 0. 0. 0. 0. 0. 0. 0. 0. 0. 0. 0.\n",
      "  0. 0. 0. 0. 0. 0. 0. 0. 0. 0. 0. 0. 0. 0. 0. 0. 0. 0. 0. 0. 0. 0. 0. 0.\n",
      "  0. 0. 0. 0. 0. 0. 0. 0. 0. 0. 0. 0. 0. 0. 0. 0. 0. 0. 0. 0. 0. 0. 0. 0.\n",
      "  0. 0. 0. 0. 0. 0. 0. 0. 0. 0. 0. 0. 0. 0. 0. 0. 0. 0. 0. 0. 0. 0. 0. 0.\n",
      "  0. 0. 0. 0. 0. 0. 0. 0. 0. 0. 0. 0. 0. 0. 0. 0. 0. 0. 0. 0. 0. 0. 0. 0.\n",
      "  0. 0. 0. 0. 0. 0. 0. 0. 0. 0. 0. 0. 0. 0. 0. 0. 0. 0. 0. 0. 0. 0. 0. 0.\n",
      "  0. 0. 0. 0. 0. 0. 0. 0. 0. 0. 0. 0. 0. 0. 0. 0. 0. 0. 0. 0. 0. 0. 0. 0.\n",
      "  0. 0. 0. 0. 0. 0. 0. 0. 0. 0. 0. 0. 0. 0. 0. 0. 0. 0. 0. 0. 0. 0. 0. 0.\n",
      "  0. 0. 0. 0. 0. 0. 0. 0. 0. 0. 0. 0. 0. 0. 0. 0. 0. 0. 0. 0. 0. 0. 0. 0.\n",
      "  0. 0. 0. 0. 0. 0. 0. 0. 0. 0. 0. 0. 0. 0. 0. 0. 0. 0. 0. 0. 0. 0. 0. 0.\n",
      "  0. 0. 0. 0. 0. 0. 0. 0. 0. 0. 0. 0. 0. 0. 0. 0. 0. 0. 0. 0. 0. 0. 0. 0.\n",
      "  0. 0. 0. 0. 0. 0. 0. 0. 0. 0. 0. 0. 0. 0. 0. 0. 0. 0. 0. 0. 0. 0. 0. 0.\n",
      "  0. 0. 0. 0. 0. 0. 0. 0. 0. 0. 0. 0. 0. 0. 0. 0. 0. 0. 0. 0. 0. 0. 0. 0.\n",
      "  0. 0. 0. 0. 0. 0. 0. 0. 0. 0. 0. 0. 0. 0. 0. 0. 0. 0. 0. 0. 0. 0. 0. 0.\n",
      "  0. 0. 0. 0. 0. 0. 0. 0. 0. 0. 0. 0. 0. 0. 0. 0. 0. 0. 0. 0. 0. 0. 0. 0.\n",
      "  0. 0. 0. 0. 0. 0. 0. 0. 0. 0. 0. 0. 0. 0. 0. 0. 0. 0. 0. 0. 0. 0. 0. 0.\n",
      "  0. 0. 0. 0. 0. 0. 0. 0. 0. 0. 0. 0. 0. 0. 0. 0. 0. 0. 0. 0. 0. 0. 0. 0.\n",
      "  0.]]\n"
     ]
    }
   ],
   "source": [
    "sample_label = train_df[\"terms\"].iloc[0]\n",
    "print(f\"Original label: {sample_label}\")\n",
    "\n",
    "label_binarized = lookup([sample_label])\n",
    "print(f\"Label-binarized representation: {label_binarized}\")"
   ]
  },
  {
   "cell_type": "code",
   "execution_count": 141,
   "id": "3d27fe34",
   "metadata": {},
   "outputs": [
    {
     "data": {
      "text/plain": [
       "count    44986.000000\n",
       "mean       157.874405\n",
       "std         41.399555\n",
       "min          5.000000\n",
       "25%        129.000000\n",
       "50%        156.000000\n",
       "75%        184.000000\n",
       "max        462.000000\n",
       "Name: summaries, dtype: float64"
      ]
     },
     "execution_count": 141,
     "metadata": {},
     "output_type": "execute_result"
    }
   ],
   "source": [
    "train_df[\"summaries\"].apply(lambda x: len(x.split(\" \"))).describe()\n"
   ]
  },
  {
   "cell_type": "code",
   "execution_count": 142,
   "id": "d1378779",
   "metadata": {},
   "outputs": [],
   "source": [
    "max_seqlen = 150\n",
    "batch_size = 128\n",
    "padding_token = \"<pad>\"\n",
    "auto = tf.data.AUTOTUNE\n",
    "\n",
    "\n",
    "def make_dataset(dataframe, is_train=True):\n",
    "    labels = tf.ragged.constant(dataframe[\"terms\"].values)\n",
    "    label_binarized = lookup(labels).numpy()\n",
    "    print(labels)\n",
    "    print(label_binarized)\n",
    "    dataset = tf.data.Dataset.from_tensor_slices(\n",
    "        (dataframe[\"summaries\"].values, label_binarized)\n",
    "    )\n",
    "    dataset = dataset.shuffle(batch_size * 10) if is_train else dataset\n",
    "    return dataset.batch(batch_size)"
   ]
  },
  {
   "cell_type": "code",
   "execution_count": 143,
   "id": "9f439c99",
   "metadata": {},
   "outputs": [
    {
     "name": "stdout",
     "output_type": "stream",
     "text": [
      "<tf.RaggedTensor [[b'cs.LG', b'stat.ML'], [b'stat.ML', b'cs.AI', b'cs.CV', b'cs.LG'],\n",
      " [b'cs.CV'], ..., [b'stat.ML', b'cs.LG'], [b'cs.CV'],\n",
      " [b'stat.ML', b'cs.LG']]>\n",
      "[[0. 0. 1. ... 0. 0. 0.]\n",
      " [0. 1. 1. ... 0. 0. 0.]\n",
      " [0. 1. 0. ... 0. 0. 0.]\n",
      " ...\n",
      " [0. 0. 1. ... 0. 0. 0.]\n",
      " [0. 1. 0. ... 0. 0. 0.]\n",
      " [0. 0. 1. ... 0. 0. 0.]]\n",
      "<tf.RaggedTensor [[b'cs.CV'], [b'cs.CV', b'cs.AI'], [b'cs.CV'], ..., [b'cs.CV'], [b'cs.CV'],\n",
      " [b'cs.LG', b'cs.MA', b'stat.ML']]>\n",
      "[[0. 1. 0. ... 0. 0. 0.]\n",
      " [0. 1. 0. ... 0. 0. 0.]\n",
      " [0. 1. 0. ... 0. 0. 0.]\n",
      " ...\n",
      " [0. 1. 0. ... 0. 0. 0.]\n",
      " [0. 1. 0. ... 0. 0. 0.]\n",
      " [0. 0. 1. ... 0. 0. 0.]]\n",
      "<tf.RaggedTensor [[b'cs.CV', b'cs.LG', b'cs.MM'], [b'stat.ML', b'cs.LG', b'stat.ME'],\n",
      " [b'cs.CV'], ..., [b'cs.LG', b'cs.AI', b'stat.ML', b'I.2.6'],\n",
      " [b'cs.LG', b'cs.AI', b'stat.ML'], [b'cs.CV']]>\n",
      "[[0. 1. 1. ... 0. 0. 0.]\n",
      " [0. 0. 1. ... 0. 0. 0.]\n",
      " [0. 1. 0. ... 0. 0. 0.]\n",
      " ...\n",
      " [0. 0. 1. ... 0. 0. 0.]\n",
      " [0. 0. 1. ... 0. 0. 0.]\n",
      " [0. 1. 0. ... 0. 0. 0.]]\n"
     ]
    }
   ],
   "source": [
    "train_dataset = make_dataset(train_df, is_train=True)\n",
    "validation_dataset = make_dataset(val_df, is_train=False)\n",
    "test_dataset = make_dataset(test_df, is_train=False)"
   ]
  },
  {
   "cell_type": "code",
   "execution_count": 95,
   "id": "a81c1708",
   "metadata": {},
   "outputs": [
    {
     "name": "stdout",
     "output_type": "stream",
     "text": [
      "Abstract: b'Many institutions within the healthcare ecosystem are making significant\\ninvestments in AI technologies to optimize their business operations at lower\\ncost with improved patient outcomes. Despite the hype with AI, the full\\nrealization of this potential is seriously hindered by several systemic\\nproblems, including data privacy, security, bias, fairness, and explainability.\\nIn this paper, we propose a novel canonical architecture for the development of\\nAI models in healthcare that addresses these challenges. This system enables\\nthe creation and management of AI predictive models throughout all the phases\\nof their life cycle, including data ingestion, model building, and model\\npromotion in production environments. This paper describes this architecture in\\ndetail, along with a qualitative evaluation of our experience of using it on\\nreal world problems.'\n",
      "Label(s): ['cs.LG' 'cs.AI' 'cs.CY']\n",
      " \n",
      "Abstract: b'With the prevalence of accessible depth sensors, dynamic human body skeletons\\nhave attracted much attention as a robust modality for action recognition.\\nPrevious methods model skeletons based on RNN or CNN, which has limited\\nexpressive power for irregular skeleton joints. While graph convolutional\\nnetworks (GCN) have been proposed to address irregular graph-structured data,\\nthe fundamental graph construction remains challenging. In this paper, we\\nrepresent skeletons naturally on graphs, and propose a graph regression based\\nGCN (GR-GCN) for skeleton-based action recognition, aiming to capture the\\nspatio-temporal variation in the data. As the graph representation is crucial\\nto graph convolution, we first propose graph regression to statistically learn\\nthe underlying graph from multiple observations. In particular, we provide\\nspatio-temporal modeling of skeletons and pose an optimization problem on the\\ngraph structure over consecutive frames, which enforces the sparsity of the\\nunderlying graph for efficient representation. The optimized graph not only\\nconnects each joint to its neighboring joints in the same frame strongly or\\nweakly, but also links with relevant joints in the previous and subsequent\\nframes. We then feed the optimized graph into the GCN along with the\\ncoordinates of the skeleton sequence for feature learning, where we deploy\\nhigh-order and fast Chebyshev approximation of spectral graph convolution.\\nFurther, we provide analysis of the variation characterization by the Chebyshev\\napproximation. Experimental results validate the effectiveness of the proposed\\ngraph regression and show that the proposed GR-GCN achieves the\\nstate-of-the-art performance on the widely used NTU RGB+D, UT-Kinect and SYSU\\n3D datasets.'\n",
      "Label(s): ['cs.CV']\n",
      " \n",
      "Abstract: b'This paper aims to accelerate the test-time computation of convolutional\\nneural networks (CNNs), especially very deep CNNs that have substantially\\nimpacted the computer vision community. Unlike previous methods that are\\ndesigned for approximating linear filters or linear responses, our method takes\\nthe nonlinear units into account. We develop an effective solution to the\\nresulting nonlinear optimization problem without the need of stochastic\\ngradient descent (SGD). More importantly, while previous methods mainly focus\\non optimizing one or two layers, our nonlinear method enables an asymmetric\\nreconstruction that reduces the rapidly accumulated error when multiple (e.g.,\\n>=10) layers are approximated. For the widely used very deep VGG-16 model, our\\nmethod achieves a whole-model speedup of 4x with merely a 0.3% increase of\\ntop-5 error in ImageNet classification. Our 4x accelerated VGG-16 model also\\nshows a graceful accuracy degradation for object detection when plugged into\\nthe Fast R-CNN detector.'\n",
      "Label(s): ['cs.CV' 'cs.LG' 'cs.NE']\n",
      " \n",
      "Abstract: b'Human gesture recognition has drawn much attention in the area of computer\\nvision. However, the performance of gesture recognition is always influenced by\\nsome gesture-irrelevant factors like the background and the clothes of\\nperformers. Therefore, focusing on the regions of hand/arm is important to the\\ngesture recognition. Meanwhile, a more adaptive architecture-searched network\\nstructure can also perform better than the block-fixed ones like Resnet since\\nit increases the diversity of features in different stages of the network\\nbetter. In this paper, we propose a regional attention with\\narchitecture-rebuilt 3D network (RAAR3DNet) for gesture recognition. We replace\\nthe fixed Inception modules with the automatically rebuilt structure through\\nthe network via Neural Architecture Search (NAS), owing to the different shape\\nand representation ability of features in the early, middle, and late stage of\\nthe network. It enables the network to capture different levels of feature\\nrepresentations at different layers more adaptively. Meanwhile, we also design\\na stackable regional attention module called dynamic-static Attention (DSA),\\nwhich derives a Gaussian guidance heatmap and dynamic motion map to highlight\\nthe hand/arm regions and the motion information in the spatial and temporal\\ndomains, respectively. Extensive experiments on two recent large-scale RGB-D\\ngesture datasets validate the effectiveness of the proposed method and show it\\noutperforms state-of-the-art methods. The codes of our method are available at:\\nhttps://github.com/zhoubenjia/RAAR3DNet.'\n",
      "Label(s): ['cs.CV']\n",
      " \n",
      "Abstract: b'In this paper, we introduce Coarse-Fine Networks, a two-stream architecture\\nwhich benefits from different abstractions of temporal resolution to learn\\nbetter video representations for long-term motion. Traditional Video models\\nprocess inputs at one (or few) fixed temporal resolution without any dynamic\\nframe selection. However, we argue that, processing multiple temporal\\nresolutions of the input and doing so dynamically by learning to estimate the\\nimportance of each frame can largely improve video representations, specially\\nin the domain of temporal activity localization. To this end, we propose (1)\\nGrid Pool, a learned temporal downsampling layer to extract coarse features,\\nand, (2) Multi-stage Fusion, a spatio-temporal attention mechanism to fuse a\\nfine-grained context with the coarse features. We show that our method\\noutperforms the state-of-the-arts for action detection in public datasets\\nincluding Charades with a significantly reduced compute and memory footprint.\\nThe code is available at https://github.com/kkahatapitiya/Coarse-Fine-Networks'\n",
      "Label(s): ['cs.CV']\n",
      " \n"
     ]
    }
   ],
   "source": [
    "text_batch, label_batch = next(iter(train_dataset))\n",
    "\n",
    "for i, text in enumerate(text_batch[:5]):\n",
    "    label = label_batch[i].numpy()[None, ...]\n",
    "    print(f\"Abstract: {text}\")\n",
    "    print(f\"Label(s): {invert_multi_hot(label[0])}\")\n",
    "    print(\" \")"
   ]
  },
  {
   "cell_type": "code",
   "execution_count": 96,
   "id": "f94767e4",
   "metadata": {},
   "outputs": [
    {
     "name": "stdout",
     "output_type": "stream",
     "text": [
      "157954\n"
     ]
    }
   ],
   "source": [
    "# Source: https://stackoverflow.com/a/18937309/7636462\n",
    "vocabulary = set()\n",
    "train_df[\"summaries\"].str.lower().str.split().apply(vocabulary.update)\n",
    "vocabulary_size = len(vocabulary)\n",
    "print(vocabulary_size)"
   ]
  },
  {
   "cell_type": "code",
   "execution_count": 97,
   "id": "ce06a355",
   "metadata": {},
   "outputs": [],
   "source": [
    "text_vectorizer = layers.TextVectorization(\n",
    "    max_tokens=vocabulary_size, ngrams=2, output_mode=\"tf_idf\"\n",
    ")\n",
    "\n",
    "# `TextVectorization` layer needs to be adapted as per the vocabulary from our\n",
    "# training set.\n",
    "with tf.device(\"/CPU:0\"):\n",
    "    text_vectorizer.adapt(train_dataset.map(lambda text, label: text))\n",
    "\n",
    "train_dataset = train_dataset.map(\n",
    "    lambda text, label: (text_vectorizer(text), label), num_parallel_calls=auto\n",
    ").prefetch(auto)\n",
    "validation_dataset = validation_dataset.map(\n",
    "    lambda text, label: (text_vectorizer(text), label), num_parallel_calls=auto\n",
    ").prefetch(auto)\n",
    "test_dataset = test_dataset.map(\n",
    "    lambda text, label: (text_vectorizer(text), label), num_parallel_calls=auto\n",
    ").prefetch(auto)"
   ]
  },
  {
   "cell_type": "code",
   "execution_count": 98,
   "id": "80fd01b3",
   "metadata": {},
   "outputs": [],
   "source": [
    "def make_model():\n",
    "    shallow_mlp_model = keras.Sequential(\n",
    "        [\n",
    "            layers.Dense(512, activation=\"relu\"),\n",
    "            layers.Dense(256, activation=\"relu\"),\n",
    "            layers.Dense(lookup.vocabulary_size(), activation=\"sigmoid\"),\n",
    "        ]  # More on why \"sigmoid\" has been used here in a moment.\n",
    "    )\n",
    "    return shallow_mlp_model"
   ]
  },
  {
   "cell_type": "code",
   "execution_count": 100,
   "id": "89aad142",
   "metadata": {},
   "outputs": [
    {
     "name": "stdout",
     "output_type": "stream",
     "text": [
      "Epoch 1/3\n",
      "352/352 [==============================] - 186s 524ms/step - loss: 0.0176 - binary_accuracy: 0.9935 - val_loss: 0.0048 - val_binary_accuracy: 0.9986\n",
      "Epoch 2/3\n",
      "352/352 [==============================] - 177s 502ms/step - loss: 0.0011 - binary_accuracy: 0.9997 - val_loss: 0.0058 - val_binary_accuracy: 0.9987\n",
      "Epoch 3/3\n",
      "352/352 [==============================] - 176s 499ms/step - loss: 2.3770e-04 - binary_accuracy: 1.0000 - val_loss: 0.0069 - val_binary_accuracy: 0.9987\n"
     ]
    },
    {
     "data": {
      "image/png": "[encoded data removed]",
      "text/plain": [
       "<Figure size 432x288 with 1 Axes>"
      ]
     },
     "metadata": {
      "needs_background": "light"
     },
     "output_type": "display_data"
    },
    {
     "data": {
      "image/png": "[encoded data removed]",
      "text/plain": [
       "<Figure size 432x288 with 1 Axes>"
      ]
     },
     "metadata": {
      "needs_background": "light"
     },
     "output_type": "display_data"
    }
   ],
   "source": [
    "epochs = 3\n",
    "\n",
    "shallow_mlp_model = make_model()\n",
    "shallow_mlp_model.compile(\n",
    "    loss=\"binary_crossentropy\", optimizer=\"adam\", metrics=[\"binary_accuracy\"]\n",
    ")\n",
    "\n",
    "history = shallow_mlp_model.fit(\n",
    "    train_dataset, validation_data=validation_dataset, epochs=epochs\n",
    ")\n",
    "\n",
    "\n",
    "def plot_result(item):\n",
    "    plt.plot(history.history[item], label=item)\n",
    "    plt.plot(history.history[\"val_\" + item], label=\"val_\" + item)\n",
    "    plt.xlabel(\"Epochs\")\n",
    "    plt.ylabel(item)\n",
    "    plt.title(\"Train and Validation {} Over Epochs\".format(item), fontsize=14)\n",
    "    plt.legend()\n",
    "    plt.grid()\n",
    "    plt.show()\n",
    "\n",
    "\n",
    "plot_result(\"loss\")\n",
    "plot_result(\"binary_accuracy\")"
   ]
  },
  {
   "cell_type": "code",
   "execution_count": 101,
   "id": "2e0bc862",
   "metadata": {},
   "outputs": [
    {
     "name": "stdout",
     "output_type": "stream",
     "text": [
      "20/20 [==============================] - 4s 184ms/step - loss: 0.0074 - binary_accuracy: 0.9987\n",
      "Categorical accuracy on the test set: 99.87%.\n"
     ]
    }
   ],
   "source": [
    "_, binary_acc = shallow_mlp_model.evaluate(test_dataset)\n",
    "print(f\"Categorical accuracy on the test set: {round(binary_acc * 100, 2)}%.\")"
   ]
  },
  {
   "cell_type": "code",
   "execution_count": 265,
   "id": "b7312929",
   "metadata": {},
   "outputs": [
    {
     "name": "stdout",
     "output_type": "stream",
     "text": [
      "Vocabulary:\n",
      "\n",
      "['[UNK]', 'Functional issue', 'GUI-related issue', 'Configuration issue', 'Add issue', 'Test Code-related issue', 'Security issue', 'Network issue', 'Performance issue', 'Permission/Deprecation issue', 'Database-related issue', 'info release issue']\n"
     ]
    }
   ],
   "source": [
    "terms = tf.ragged.constant(train_df[\"Classification\"].values)\n",
    "lookup = tf.keras.layers.StringLookup(output_mode=\"multi_hot\")\n",
    "lookup.adapt(terms)\n",
    "vocab = lookup.get_vocabulary()\n",
    "\n",
    "\n",
    "def invert_multi_hot(encoded_labels):\n",
    "    \"\"\"Reverse a single multi-hot encoded label to a tuple of vocab terms.\"\"\"\n",
    "    hot_indices = np.argwhere(encoded_labels == 1.0)[..., 0]\n",
    "    return np.take(vocab, hot_indices)\n",
    "\n",
    "\n",
    "print(\"Vocabulary:\\n\")\n",
    "print(vocab)"
   ]
  },
  {
   "cell_type": "code",
   "execution_count": 266,
   "id": "8b66a053",
   "metadata": {},
   "outputs": [
    {
     "name": "stdout",
     "output_type": "stream",
     "text": [
      "Original label: ['Functional issue']\n",
      "Label-binarized representation: [[0. 1. 0. 0. 0. 0. 0. 0. 0. 0. 0. 0.]]\n"
     ]
    }
   ],
   "source": [
    "sample_label = train_df[\"Classification\"].iloc[0]\n",
    "print(f\"Original label: {sample_label}\")\n",
    "\n",
    "label_binarized = lookup([sample_label])\n",
    "print(f\"Label-binarized representation: {label_binarized}\")"
   ]
  },
  {
   "cell_type": "code",
   "execution_count": 267,
   "id": "94fe523f",
   "metadata": {},
   "outputs": [
    {
     "data": {
      "text/plain": [
       "count    1152.000000\n",
       "mean        8.144965\n",
       "std         3.642923\n",
       "min         1.000000\n",
       "25%         6.000000\n",
       "50%         8.000000\n",
       "75%        10.000000\n",
       "max        27.000000\n",
       "Name: Summary, dtype: float64"
      ]
     },
     "execution_count": 267,
     "metadata": {},
     "output_type": "execute_result"
    }
   ],
   "source": [
    "train_df[\"Summary\"].apply(lambda x: len(x.split(\" \"))).describe()"
   ]
  },
  {
   "cell_type": "code",
   "execution_count": 268,
   "id": "d43ad27a",
   "metadata": {},
   "outputs": [],
   "source": [
    "max_seqlen = 8\n",
    "batch_size = 128\n",
    "padding_token = \"<pad>\"\n",
    "auto = tf.data.AUTOTUNE\n",
    "\n",
    "\n",
    "def make_dataset(dataframe, is_train=True):\n",
    "    labels = tf.ragged.constant(dataframe[\"Classification\"].values)\n",
    "    print(labels.shape)\n",
    "    label_binarized = lookup(labels).numpy()\n",
    "    print(label_binarized.shape)\n",
    "    dataset = tf.data.Dataset.from_tensor_slices(\n",
    "        (dataframe[\"Summary\"].values, label_binarized)\n",
    "    )\n",
    "    dataset = dataset.shuffle(batch_size * 10) if is_train else dataset\n",
    "    return dataset.batch(batch_size)"
   ]
  },
  {
   "cell_type": "code",
   "execution_count": 269,
   "id": "e9e20ad7",
   "metadata": {},
   "outputs": [
    {
     "name": "stdout",
     "output_type": "stream",
     "text": [
      "(1152, None)\n",
      "(1152, 12)\n",
      "(64, None)\n",
      "(64, 12)\n",
      "(64, None)\n",
      "(64, 12)\n"
     ]
    }
   ],
   "source": [
    "train_dataset = make_dataset(train_df, is_train=True)\n",
    "validation_dataset = make_dataset(val_df, is_train=False)\n",
    "test_dataset = make_dataset(test_df, is_train=False)"
   ]
  },
  {
   "cell_type": "code",
   "execution_count": 270,
   "id": "8d71ea83",
   "metadata": {},
   "outputs": [
    {
     "name": "stdout",
     "output_type": "stream",
     "text": [
      "Abstract: b'crash on startup with IBM JRE'\n",
      "Label(s): ['Functional issue']\n",
      " \n",
      "Abstract: b'[hotbug] JEE5 Web model does not update on changes in web.xml'\n",
      "Label(s): ['Configuration issue']\n",
      " \n",
      "Abstract: b'Default JLabel text Incorrect'\n",
      "Label(s): ['Functional issue']\n",
      " \n",
      "Abstract: b'SimpleAttributeDecoder; need parse tree for non-new type args too'\n",
      "Label(s): ['Functional issue']\n",
      " \n",
      "Abstract: b'Browser is crashing while loading big images( > 5MB)'\n",
      "Label(s): ['Functional issue']\n",
      " \n"
     ]
    }
   ],
   "source": [
    "text_batch, label_batch = next(iter(train_dataset))\n",
    "\n",
    "for i, text in enumerate(text_batch[:5]):\n",
    "    label = label_batch[i].numpy()[None, ...]\n",
    "    print(f\"Abstract: {text}\")\n",
    "    print(f\"Label(s): {invert_multi_hot(label[0])}\")\n",
    "    print(\" \")"
   ]
  },
  {
   "cell_type": "code",
   "execution_count": 271,
   "id": "55dfbf1d",
   "metadata": {},
   "outputs": [
    {
     "name": "stdout",
     "output_type": "stream",
     "text": [
      "3375\n"
     ]
    }
   ],
   "source": [
    "vocabulary = set()\n",
    "train_df[\"Summary\"].str.lower().str.split().apply(vocabulary.update)\n",
    "vocabulary_size = len(vocabulary)\n",
    "print(vocabulary_size)"
   ]
  },
  {
   "cell_type": "code",
   "execution_count": 272,
   "id": "d868216c",
   "metadata": {},
   "outputs": [],
   "source": [
    "text_vectorizer = layers.TextVectorization(\n",
    "    max_tokens=vocabulary_size, ngrams=2, output_mode=\"tf_idf\"\n",
    ")\n",
    "\n",
    "# `TextVectorization` layer needs to be adapted as per the vocabulary from our\n",
    "# training set.\n",
    "with tf.device(\"/CPU:0\"):\n",
    "    text_vectorizer.adapt(train_dataset.map(lambda text, label: text))\n",
    "\n",
    "train_dataset = train_dataset.map(\n",
    "    lambda text, label: (text_vectorizer(text), label), num_parallel_calls=auto\n",
    ").prefetch(auto)\n",
    "validation_dataset = validation_dataset.map(\n",
    "    lambda text, label: (text_vectorizer(text), label), num_parallel_calls=auto\n",
    ").prefetch(auto)\n",
    "test_dataset = test_dataset.map(\n",
    "    lambda text, label: (text_vectorizer(text), label), num_parallel_calls=auto\n",
    ").prefetch(auto)"
   ]
  },
  {
   "cell_type": "code",
   "execution_count": 275,
   "id": "57cc1bfd",
   "metadata": {},
   "outputs": [],
   "source": [
    "def make_model():\n",
    "    shallow_mlp_model = keras.Sequential(\n",
    "        [\n",
    "            layers.Dense(512, activation=\"relu\"),\n",
    "            layers.Dense(256, activation=\"relu\"),\n",
    "            layers.Dense(lookup.vocabulary_size(), activation=\"sigmoid\"),\n",
    "        ]  # More on why \"sigmoid\" has been used here in a moment.\n",
    "    )\n",
    "    return shallow_mlp_model"
   ]
  },
  {
   "cell_type": "code",
   "execution_count": 282,
   "id": "5e3d541e",
   "metadata": {},
   "outputs": [
    {
     "name": "stdout",
     "output_type": "stream",
     "text": [
      "Epoch 1/9\n",
      "9/9 [==============================] - 0s 21ms/step - loss: 0.3974 - accuracy: 0.3446 - val_loss: 0.3416 - val_accuracy: 0.3125\n",
      "Epoch 2/9\n",
      "9/9 [==============================] - 0s 15ms/step - loss: 0.2184 - accuracy: 0.5590 - val_loss: 0.3128 - val_accuracy: 0.3594\n",
      "Epoch 3/9\n",
      "9/9 [==============================] - 0s 15ms/step - loss: 0.1493 - accuracy: 0.7543 - val_loss: 0.2620 - val_accuracy: 0.3906\n",
      "Epoch 4/9\n",
      "9/9 [==============================] - 0s 16ms/step - loss: 0.0941 - accuracy: 0.8776 - val_loss: 0.2375 - val_accuracy: 0.5000\n",
      "Epoch 5/9\n",
      "9/9 [==============================] - 0s 15ms/step - loss: 0.0556 - accuracy: 0.9384 - val_loss: 0.2490 - val_accuracy: 0.4531\n",
      "Epoch 6/9\n",
      "9/9 [==============================] - 0s 16ms/step - loss: 0.0328 - accuracy: 0.9757 - val_loss: 0.2574 - val_accuracy: 0.4688\n",
      "Epoch 7/9\n",
      "9/9 [==============================] - 0s 15ms/step - loss: 0.0199 - accuracy: 0.9826 - val_loss: 0.2967 - val_accuracy: 0.4531\n",
      "Epoch 8/9\n",
      "9/9 [==============================] - 0s 15ms/step - loss: 0.0127 - accuracy: 0.9852 - val_loss: 0.2942 - val_accuracy: 0.4375\n",
      "Epoch 9/9\n",
      "9/9 [==============================] - 0s 15ms/step - loss: 0.0092 - accuracy: 0.9870 - val_loss: 0.3339 - val_accuracy: 0.4531\n"
     ]
    },
    {
     "data": {
      "image/png": "[encoded data removed]",
      "text/plain": [
       "<Figure size 432x288 with 1 Axes>"
      ]
     },
     "metadata": {
      "needs_background": "light"
     },
     "output_type": "display_data"
    },
    {
     "data": {
      "image/png": "[encoded data removed]",
      "text/plain": [
       "<Figure size 432x288 with 1 Axes>"
      ]
     },
     "metadata": {
      "needs_background": "light"
     },
     "output_type": "display_data"
    }
   ],
   "source": [
    "epochs = 9\n",
    "\n",
    "shallow_mlp_model = make_model()\n",
    "shallow_mlp_model.compile(\n",
    "    loss=\"binary_crossentropy\", optimizer=\"adam\", metrics=[\"accuracy\"]\n",
    ")\n",
    "#tf.keras.metrics.Precision(),tf.keras.metrics.Recall(),\n",
    "\n",
    "# metrics\"binary_accuracy\"\n",
    "history = shallow_mlp_model.fit(\n",
    "    train_dataset, validation_data=validation_dataset, epochs=epochs\n",
    ")\n",
    "\n",
    "\n",
    "def plot_result(item):\n",
    "    plt.plot(history.history[item], label=item)\n",
    "    plt.plot(history.history[\"val_\" + item], label=\"val_\" + item)\n",
    "    plt.xlabel(\"Epochs\")\n",
    "    plt.ylabel(item)\n",
    "    plt.title(\"Train and Validation {} Over Epochs\".format(item), fontsize=14)\n",
    "    plt.legend()\n",
    "    plt.grid()\n",
    "    plt.show()\n",
    "\n",
    "\n",
    "plot_result(\"loss\")\n",
    "#plot_result(\"precision_15\")\n",
    "#plot_result(\"recall_8\")\n",
    "plot_result(\"accuracy\")"
   ]
  },
  {
   "cell_type": "code",
   "execution_count": 284,
   "id": "08108a48",
   "metadata": {},
   "outputs": [
    {
     "name": "stdout",
     "output_type": "stream",
     "text": [
      "1/1 [==============================] - 0s 74ms/step - loss: 0.2803 - accuracy: 0.5469\n",
      "Categorical accuracy on the test set: 54.69%.\n"
     ]
    }
   ],
   "source": [
    "_, acc = shallow_mlp_model.evaluate(test_dataset)\n",
    "print(f\"Categorical accuracy on the test set: {round(acc * 100, 2)}%.\")"
   ]
  },
  {
   "cell_type": "code",
   "execution_count": 236,
   "id": "5bb4bbcf",
   "metadata": {},
   "outputs": [
    {
     "name": "stdout",
     "output_type": "stream",
     "text": [
      "(60, None)\n",
      "(60, 12)\n",
      "2/2 [==============================] - 0s 7ms/step\n",
      "2/2 [==============================] - 0s 3ms/step\n"
     ]
    },
    {
     "ename": "ValueError",
     "evalue": "Classification metrics can't handle a mix of multilabel-indicator and multiclass targets",
     "output_type": "error",
     "traceback": [
      "\u001b[0;31m---------------------------------------------------------------------------\u001b[0m",
      "\u001b[0;31mValueError\u001b[0m                                Traceback (most recent call last)",
      "Input \u001b[0;32mIn [236]\u001b[0m, in \u001b[0;36m<cell line: 16>\u001b[0;34m()\u001b[0m\n\u001b[1;32m     13\u001b[0m predicted_classes\u001b[38;5;241m=\u001b[39mnp\u001b[38;5;241m.\u001b[39margmax(model_for_inference\u001b[38;5;241m.\u001b[39mpredict(text_batch),axis\u001b[38;5;241m=\u001b[39m\u001b[38;5;241m1\u001b[39m) \n\u001b[1;32m     15\u001b[0m \u001b[38;5;66;03m# accuracy: (tp + tn) / (p + n)\u001b[39;00m\n\u001b[0;32m---> 16\u001b[0m accuracy \u001b[38;5;241m=\u001b[39m \u001b[43maccuracy_score\u001b[49m\u001b[43m(\u001b[49m\u001b[43mlabel_batch\u001b[49m\u001b[43m,\u001b[49m\u001b[43m \u001b[49m\u001b[43mpredicted_classes\u001b[49m\u001b[43m)\u001b[49m\n\u001b[1;32m     17\u001b[0m \u001b[38;5;28mprint\u001b[39m(\u001b[38;5;124m'\u001b[39m\u001b[38;5;124mAccuracy: \u001b[39m\u001b[38;5;132;01m%f\u001b[39;00m\u001b[38;5;124m'\u001b[39m \u001b[38;5;241m%\u001b[39m accuracy)\n\u001b[1;32m     18\u001b[0m \u001b[38;5;66;03m# precision tp / (tp + fp)\u001b[39;00m\n",
      "File \u001b[0;32m~/opt/anaconda3/envs/firstEnv/lib/python3.10/site-packages/sklearn/utils/_param_validation.py:192\u001b[0m, in \u001b[0;36mvalidate_params.<locals>.decorator.<locals>.wrapper\u001b[0;34m(*args, **kwargs)\u001b[0m\n\u001b[1;32m    187\u001b[0m validate_parameter_constraints(\n\u001b[1;32m    188\u001b[0m     parameter_constraints, params, caller_name\u001b[38;5;241m=\u001b[39mfunc\u001b[38;5;241m.\u001b[39m\u001b[38;5;18m__qualname__\u001b[39m\n\u001b[1;32m    189\u001b[0m )\n\u001b[1;32m    191\u001b[0m \u001b[38;5;28;01mtry\u001b[39;00m:\n\u001b[0;32m--> 192\u001b[0m     \u001b[38;5;28;01mreturn\u001b[39;00m \u001b[43mfunc\u001b[49m\u001b[43m(\u001b[49m\u001b[38;5;241;43m*\u001b[39;49m\u001b[43margs\u001b[49m\u001b[43m,\u001b[49m\u001b[43m \u001b[49m\u001b[38;5;241;43m*\u001b[39;49m\u001b[38;5;241;43m*\u001b[39;49m\u001b[43mkwargs\u001b[49m\u001b[43m)\u001b[49m\n\u001b[1;32m    193\u001b[0m \u001b[38;5;28;01mexcept\u001b[39;00m InvalidParameterError \u001b[38;5;28;01mas\u001b[39;00m e:\n\u001b[1;32m    194\u001b[0m     \u001b[38;5;66;03m# When the function is just a wrapper around an estimator, we allow\u001b[39;00m\n\u001b[1;32m    195\u001b[0m     \u001b[38;5;66;03m# the function to delegate validation to the estimator, but we replace\u001b[39;00m\n\u001b[1;32m    196\u001b[0m     \u001b[38;5;66;03m# the name of the estimator by the name of the function in the error\u001b[39;00m\n\u001b[1;32m    197\u001b[0m     \u001b[38;5;66;03m# message to avoid confusion.\u001b[39;00m\n\u001b[1;32m    198\u001b[0m     msg \u001b[38;5;241m=\u001b[39m re\u001b[38;5;241m.\u001b[39msub(\n\u001b[1;32m    199\u001b[0m         \u001b[38;5;124mr\u001b[39m\u001b[38;5;124m\"\u001b[39m\u001b[38;5;124mparameter of \u001b[39m\u001b[38;5;124m\\\u001b[39m\u001b[38;5;124mw+ must be\u001b[39m\u001b[38;5;124m\"\u001b[39m,\n\u001b[1;32m    200\u001b[0m         \u001b[38;5;124mf\u001b[39m\u001b[38;5;124m\"\u001b[39m\u001b[38;5;124mparameter of \u001b[39m\u001b[38;5;132;01m{\u001b[39;00mfunc\u001b[38;5;241m.\u001b[39m\u001b[38;5;18m__qualname__\u001b[39m\u001b[38;5;132;01m}\u001b[39;00m\u001b[38;5;124m must be\u001b[39m\u001b[38;5;124m\"\u001b[39m,\n\u001b[1;32m    201\u001b[0m         \u001b[38;5;28mstr\u001b[39m(e),\n\u001b[1;32m    202\u001b[0m     )\n",
      "File \u001b[0;32m~/opt/anaconda3/envs/firstEnv/lib/python3.10/site-packages/sklearn/metrics/_classification.py:221\u001b[0m, in \u001b[0;36maccuracy_score\u001b[0;34m(y_true, y_pred, normalize, sample_weight)\u001b[0m\n\u001b[1;32m    155\u001b[0m \u001b[38;5;124;03m\"\"\"Accuracy classification score.\u001b[39;00m\n\u001b[1;32m    156\u001b[0m \n\u001b[1;32m    157\u001b[0m \u001b[38;5;124;03mIn multilabel classification, this function computes subset accuracy:\u001b[39;00m\n\u001b[0;32m   (...)\u001b[0m\n\u001b[1;32m    217\u001b[0m \u001b[38;5;124;03m0.5\u001b[39;00m\n\u001b[1;32m    218\u001b[0m \u001b[38;5;124;03m\"\"\"\u001b[39;00m\n\u001b[1;32m    220\u001b[0m \u001b[38;5;66;03m# Compute accuracy for each possible representation\u001b[39;00m\n\u001b[0;32m--> 221\u001b[0m y_type, y_true, y_pred \u001b[38;5;241m=\u001b[39m \u001b[43m_check_targets\u001b[49m\u001b[43m(\u001b[49m\u001b[43my_true\u001b[49m\u001b[43m,\u001b[49m\u001b[43m \u001b[49m\u001b[43my_pred\u001b[49m\u001b[43m)\u001b[49m\n\u001b[1;32m    222\u001b[0m check_consistent_length(y_true, y_pred, sample_weight)\n\u001b[1;32m    223\u001b[0m \u001b[38;5;28;01mif\u001b[39;00m y_type\u001b[38;5;241m.\u001b[39mstartswith(\u001b[38;5;124m\"\u001b[39m\u001b[38;5;124mmultilabel\u001b[39m\u001b[38;5;124m\"\u001b[39m):\n",
      "File \u001b[0;32m~/opt/anaconda3/envs/firstEnv/lib/python3.10/site-packages/sklearn/metrics/_classification.py:95\u001b[0m, in \u001b[0;36m_check_targets\u001b[0;34m(y_true, y_pred)\u001b[0m\n\u001b[1;32m     92\u001b[0m     y_type \u001b[38;5;241m=\u001b[39m {\u001b[38;5;124m\"\u001b[39m\u001b[38;5;124mmulticlass\u001b[39m\u001b[38;5;124m\"\u001b[39m}\n\u001b[1;32m     94\u001b[0m \u001b[38;5;28;01mif\u001b[39;00m \u001b[38;5;28mlen\u001b[39m(y_type) \u001b[38;5;241m>\u001b[39m \u001b[38;5;241m1\u001b[39m:\n\u001b[0;32m---> 95\u001b[0m     \u001b[38;5;28;01mraise\u001b[39;00m \u001b[38;5;167;01mValueError\u001b[39;00m(\n\u001b[1;32m     96\u001b[0m         \u001b[38;5;124m\"\u001b[39m\u001b[38;5;124mClassification metrics can\u001b[39m\u001b[38;5;124m'\u001b[39m\u001b[38;5;124mt handle a mix of \u001b[39m\u001b[38;5;132;01m{0}\u001b[39;00m\u001b[38;5;124m and \u001b[39m\u001b[38;5;132;01m{1}\u001b[39;00m\u001b[38;5;124m targets\u001b[39m\u001b[38;5;124m\"\u001b[39m\u001b[38;5;241m.\u001b[39mformat(\n\u001b[1;32m     97\u001b[0m             type_true, type_pred\n\u001b[1;32m     98\u001b[0m         )\n\u001b[1;32m     99\u001b[0m     )\n\u001b[1;32m    101\u001b[0m \u001b[38;5;66;03m# We can't have more than one value on y_type => The set is no more needed\u001b[39;00m\n\u001b[1;32m    102\u001b[0m y_type \u001b[38;5;241m=\u001b[39m y_type\u001b[38;5;241m.\u001b[39mpop()\n",
      "\u001b[0;31mValueError\u001b[0m: Classification metrics can't handle a mix of multilabel-indicator and multiclass targets"
     ]
    }
   ],
   "source": [
    "from sklearn.metrics import accuracy_score\n",
    "from sklearn.metrics import precision_score\n",
    "from sklearn.metrics import recall_score\n",
    "from sklearn.metrics import f1_score\n",
    "\n",
    "model_for_inference = keras.Sequential([text_vectorizer, shallow_mlp_model])\n",
    "\n",
    "# Create a small dataset just for demoing inference.\n",
    "inference_dataset = make_dataset(test_df.sample(60), is_train=False)\n",
    "text_batch, label_batch = next(iter(inference_dataset))\n",
    "predicted_probabilities = model_for_inference.predict(text_batch)\n",
    "\n",
    "predicted_classes=np.argmax(model_for_inference.predict(text_batch),axis=1) \n",
    "\n",
    "# accuracy: (tp + tn) / (p + n)\n",
    "accuracy = accuracy_score(label_batch, predicted_classes)\n",
    "print('Accuracy: %f' % accuracy)\n",
    "# precision tp / (tp + fp)\n",
    "precision = precision_score(label_batch, predicted_classes)\n",
    "print('Precision: %f' % precision)\n",
    "# recall: tp / (tp + fn)\n",
    "recall = recall_score(label_batch, predicted_classes)\n",
    "print('Recall: %f' % recall)\n",
    "# f1: 2 tp / (2 tp + fp + fn)\n",
    "f1 = f1_score(label_batch, predicted_classes)\n",
    "print('F1 score: %f' % f1)\n"
   ]
  },
  {
   "cell_type": "code",
   "execution_count": 230,
   "id": "0123d0da",
   "metadata": {},
   "outputs": [
    {
     "name": "stdout",
     "output_type": "stream",
     "text": [
      "(64, None)\n",
      "(64, 12)\n",
      "2/2 [==============================] - 0s 4ms/step\n",
      "2/2 [==============================] - 0s 4ms/step\n",
      "Summary: b\"Agent Controller doesn't shutdown agents\"\n",
      "Classification: ['Add issue']\n",
      "Predicted Classification: (Functional issue, Configuration issue, GUI-related issue)\n",
      " \n",
      "Summary: b\"[PP]Search Messages:open dropdowns don't collapse correctly\"\n",
      "Classification: ['Functional issue']\n",
      "Predicted Classification: (Functional issue, Configuration issue, GUI-related issue)\n",
      " \n",
      "Summary: b'<IFRAME> tag not supported correctly'\n",
      "Classification: ['GUI-related issue']\n",
      "Predicted Classification: (GUI-related issue, Functional issue, Network issue)\n",
      " \n",
      "Summary: b'Release version 1,0'\n",
      "Classification: ['info release issue']\n",
      "Predicted Classification: (info release issue, Functional issue, Configuration issue)\n",
      " \n",
      "Summary: b'Crash on console startup in ap_recent_ctime'\n",
      "Classification: ['Functional issue']\n",
      "Predicted Classification: (Functional issue, Configuration issue, Add issue)\n",
      " \n"
     ]
    }
   ],
   "source": [
    "# Create a model for inference.\n",
    "model_for_inference = keras.Sequential([text_vectorizer, shallow_mlp_model])\n",
    "\n",
    "# Create a small dataset just for demoing inference.\n",
    "inference_dataset = make_dataset(test_df.sample(64), is_train=False)\n",
    "text_batch, label_batch = next(iter(inference_dataset))\n",
    "predicted_probabilities = model_for_inference.predict(text_batch)\n",
    "\n",
    "predicted_classes=np.argmax(model_for_inference.predict(text_batch),axis=1) \n",
    "\n",
    "# Perform inference.\n",
    "for i, text in enumerate(text_batch[:5]):\n",
    "    label = label_batch[i].numpy()[None, ...]\n",
    "    print(f\"Summary: {text}\")\n",
    "    print(f\"Classification: {invert_multi_hot(label[0])}\")\n",
    "    predicted_proba = [proba for proba in predicted_probabilities[i]]\n",
    "    top_3_labels = [\n",
    "        x\n",
    "        for _, x in sorted(\n",
    "            zip(predicted_probabilities[i], lookup.get_vocabulary()),\n",
    "            key=lambda pair: pair[0],\n",
    "            reverse=True,\n",
    "        )\n",
    "    ][:3]\n",
    "    print(f\"Predicted Classification: ({', '.join([label for label in top_3_labels])})\")\n",
    "    print(\" \")"
   ]
  }
 ],
 "metadata": {
  "kernelspec": {
   "display_name": "firstEnv",
   "language": "python",
   "name": "firstenv"
  },
  "language_info": {
   "codemirror_mode": {
    "name": "ipython",
    "version": 3
   },
   "file_extension": ".py",
   "mimetype": "text/x-python",
   "name": "python",
   "nbconvert_exporter": "python",
   "pygments_lexer": "ipython3",
   "version": "3.10.4"
  }
 },
 "nbformat": 4,
 "nbformat_minor": 5
}
